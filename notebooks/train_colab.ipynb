{
 "cells": [
  {
   "cell_type": "code",
   "execution_count": null,
   "id": "9b24c3ee-aff9-4f86-bde7-51ac0f099c37",
   "metadata": {
    "pycharm": {
     "name": "#%%\n"
    },
    "id": "9b24c3ee-aff9-4f86-bde7-51ac0f099c37"
   },
   "outputs": [],
   "source": [
    "import pandas as pd\n",
    "from tqdm.notebook import tqdm\n",
    "import os\n",
    "from shutil import copyfile, move, copy\n",
    "import sys\n",
    "import json"
   ]
  },
  {
   "cell_type": "code",
   "execution_count": null,
   "outputs": [],
   "source": [],
   "metadata": {
    "collapsed": false,
    "pycharm": {
     "name": "#%%\n"
    }
   }
  },
  {
   "cell_type": "code",
   "source": [
    "import zipfile # Библиотека для работы с zip архивами\n",
    "import os      # Библиотека для работы с фаловой системой \n",
    "import time    # Библиотека для работы со временем\n",
    "\n",
    "from google.colab import drive # Модуль для работы с Google Disk\n",
    "from PIL import Image          # Модуль Image для работы с изображениями"
   ],
   "metadata": {
    "id": "DKf0spTLB1xz",
    "pycharm": {
     "name": "#%%\n"
    }
   },
   "id": "DKf0spTLB1xz",
   "execution_count": null,
   "outputs": []
  },
  {
   "cell_type": "code",
   "source": [
    "os.listdir()"
   ],
   "metadata": {
    "colab": {
     "base_uri": "https://localhost:8080/"
    },
    "id": "Yj2hq2whMQaD",
    "outputId": "0dac4151-0f46-41fd-c057-85c9cb682f02",
    "pycharm": {
     "name": "#%%\n"
    }
   },
   "id": "Yj2hq2whMQaD",
   "execution_count": null,
   "outputs": [
    {
     "output_type": "execute_result",
     "data": {
      "text/plain": [
       "['.config', 'drive', 'JSON2YOLO', 'yolov5', 'sample_data']"
      ]
     },
     "metadata": {},
     "execution_count": 12
    }
   ]
  },
  {
   "cell_type": "code",
   "source": [
    "# Прописываем путь к файлу с архивом\n",
    "zip_file = '/content/drive/MyDrive/content/drive/MyDrive/habr/input/rtsd-kaggle/train_annotation.zip'  \n",
    "\n",
    "# Распаковываем архив\n",
    "z = zipfile.ZipFile(zip_file, 'r')\n",
    "z.extractall()\n",
    "\n",
    "# Просмотр результата разархивации\n",
    "print(os.listdir())"
   ],
   "metadata": {
    "colab": {
     "base_uri": "https://localhost:8080/"
    },
    "id": "nVJfZxIvB2qT",
    "outputId": "3bc2c452-e2c7-4b65-91e7-47057ea9c0c9",
    "pycharm": {
     "name": "#%%\n"
    }
   },
   "id": "nVJfZxIvB2qT",
   "execution_count": null,
   "outputs": [
    {
     "output_type": "stream",
     "name": "stdout",
     "text": [
      "['.config', 'train_annotation', 'drive', 'sample_data']\n"
     ]
    }
   ]
  },
  {
   "cell_type": "code",
   "source": [
    "zip_file = '/content/drive/MyDrive/content/drive/MyDrive/habr/input/rtsd-kaggle/test_annotation.zip'  \n",
    "\n",
    "# Распаковываем архив\n",
    "z = zipfile.ZipFile(zip_file, 'r')\n",
    "z.extractall()\n",
    "\n",
    "# Просмотр результата разархивации\n",
    "print(os.listdir())"
   ],
   "metadata": {
    "colab": {
     "base_uri": "https://localhost:8080/"
    },
    "id": "uZET7brZO6jI",
    "outputId": "083394c5-4916-4ec3-f333-92837c8ba8e4",
    "pycharm": {
     "name": "#%%\n"
    }
   },
   "id": "uZET7brZO6jI",
   "execution_count": null,
   "outputs": [
    {
     "output_type": "stream",
     "name": "stdout",
     "text": [
      "['.config', 'train_annotation', 'drive', 'test_annotation', 'sample_data']\n"
     ]
    }
   ]
  },
  {
   "cell_type": "code",
   "source": [],
   "metadata": {
    "id": "bRdOfoIEB2tX",
    "pycharm": {
     "name": "#%%\n"
    }
   },
   "id": "bRdOfoIEB2tX",
   "execution_count": null,
   "outputs": []
  },
  {
   "cell_type": "markdown",
   "id": "2fcb7ea9-94bb-4213-aa21-8814887a8daa",
   "metadata": {
    "pycharm": {
     "name": "#%% md\n"
    },
    "id": "2fcb7ea9-94bb-4213-aa21-8814887a8daa"
   },
   "source": [
    "# TRAIN"
   ]
  },
  {
   "cell_type": "code",
   "execution_count": null,
   "id": "e733275f-006e-4f47-9f03-4db84aa71373",
   "metadata": {
    "tags": [],
    "pycharm": {
     "name": "#%%\n"
    },
    "id": "e733275f-006e-4f47-9f03-4db84aa71373"
   },
   "outputs": [],
   "source": [
    "!git clone https://github.com/ultralytics/yolov5\n",
    "%cd yolov5\n",
    "%pip install -qr requirements.txt\n",
    "!unzip /content/dataset.zip -d /content/yolov5/\n",
    "\n",
    "!pip install torch==1.12.0+cu113 torchvision==0.13.0+cu113 torchaudio==0.12.0 --extra-index-url https://download.pytorch.org/whl/cu113\n",
    "!sudo apt-get install ffmpeg libsm6 libxext6  -y"
   ]
  },
  {
   "cell_type": "code",
   "execution_count": null,
   "id": "dde20df4-83ff-44ef-9ed3-f5489e520183",
   "metadata": {
    "pycharm": {
     "name": "#%%\n"
    },
    "colab": {
     "base_uri": "https://localhost:8080/"
    },
    "id": "dde20df4-83ff-44ef-9ed3-f5489e520183",
    "outputId": "a8d39256-3b60-4ed7-fd80-34d53f5e338d"
   },
   "outputs": [
    {
     "output_type": "stream",
     "name": "stdout",
     "text": [
      "Cloning into 'yolov5'...\n",
      "remote: Enumerating objects: 14570, done.\u001B[K\n",
      "remote: Counting objects: 100% (92/92), done.\u001B[K\n",
      "remote: Compressing objects: 100% (66/66), done.\u001B[K\n",
      "remote: Total 14570 (delta 46), reused 50 (delta 26), pack-reused 14478\u001B[K\n",
      "Receiving objects: 100% (14570/14570), 13.74 MiB | 18.16 MiB/s, done.\n",
      "Resolving deltas: 100% (10019/10019), done.\n"
     ]
    }
   ],
   "source": [
    "!git clone https://github.com/ultralytics/yolov5"
   ]
  },
  {
   "cell_type": "code",
   "source": [
    "from google.colab import drive\n",
    "drive.mount('/content/drive')"
   ],
   "metadata": {
    "colab": {
     "base_uri": "https://localhost:8080/"
    },
    "id": "jqIegEakA0RP",
    "outputId": "2d965174-237e-40d8-f420-f32d48b34076",
    "pycharm": {
     "name": "#%%\n"
    }
   },
   "id": "jqIegEakA0RP",
   "execution_count": null,
   "outputs": [
    {
     "output_type": "stream",
     "name": "stdout",
     "text": [
      "Drive already mounted at /content/drive; to attempt to forcibly remount, call drive.mount(\"/content/drive\", force_remount=True).\n"
     ]
    }
   ]
  },
  {
   "cell_type": "code",
   "execution_count": null,
   "id": "8db15506-77fe-4c73-b5f3-38070d51cc37",
   "metadata": {
    "pycharm": {
     "name": "#%%\n"
    },
    "id": "8db15506-77fe-4c73-b5f3-38070d51cc37"
   },
   "outputs": [],
   "source": [
    "!cd \"yolov5\""
   ]
  },
  {
   "cell_type": "code",
   "execution_count": null,
   "outputs": [
    {
     "output_type": "execute_result",
     "data": {
      "text/plain": [
       "'/content'"
      ],
      "application/vnd.google.colaboratory.intrinsic+json": {
       "type": "string"
      }
     },
     "metadata": {},
     "execution_count": 21
    }
   ],
   "source": [
    "%pwd"
   ],
   "metadata": {
    "pycharm": {
     "name": "#%%\n"
    },
    "colab": {
     "base_uri": "https://localhost:8080/",
     "height": 35
    },
    "id": "zLJVqz7z_c3M",
    "outputId": "10d1c231-f461-46f1-8be6-151f5e975cbb"
   },
   "id": "zLJVqz7z_c3M"
  },
  {
   "cell_type": "code",
   "execution_count": null,
   "outputs": [],
   "source": [
    "os.chdir('yolov5')"
   ],
   "metadata": {
    "pycharm": {
     "name": "#%%\n"
    },
    "id": "LJ4-RYAK_c3N"
   },
   "id": "LJ4-RYAK_c3N"
  },
  {
   "cell_type": "code",
   "execution_count": null,
   "outputs": [
    {
     "data": {
      "text/plain": "'E:\\\\ds\\\\final_projects\\\\habr\\\\yolov5'"
     },
     "execution_count": 24,
     "metadata": {},
     "output_type": "execute_result"
    }
   ],
   "source": [
    "os.getcwd()"
   ],
   "metadata": {
    "pycharm": {
     "name": "#%%\n"
    },
    "id": "D36cPJ3w_c3N",
    "outputId": "b68e6450-3a1a-4c16-d381-16e455167c56"
   },
   "id": "D36cPJ3w_c3N"
  },
  {
   "cell_type": "code",
   "execution_count": null,
   "id": "6cd34c2a-f791-485e-904e-75db1a56197e",
   "metadata": {
    "tags": [],
    "pycharm": {
     "name": "#%%\n"
    },
    "colab": {
     "base_uri": "https://localhost:8080/"
    },
    "id": "6cd34c2a-f791-485e-904e-75db1a56197e",
    "outputId": "472501bb-e0c6-47a4-e850-92ec51112b23"
   },
   "outputs": [
    {
     "output_type": "stream",
     "name": "stdout",
     "text": [
      "Looking in indexes: https://pypi.org/simple, https://us-python.pkg.dev/colab-wheels/public/simple/\n",
      "Collecting gitpython\n",
      "  Downloading GitPython-3.1.29-py3-none-any.whl (182 kB)\n",
      "\u001B[K     |████████████████████████████████| 182 kB 34.3 MB/s \n",
      "\u001B[?25hRequirement already satisfied: ipython in /usr/local/lib/python3.8/dist-packages (from -r requirements.txt (line 6)) (7.9.0)\n",
      "Requirement already satisfied: matplotlib>=3.2.2 in /usr/local/lib/python3.8/dist-packages (from -r requirements.txt (line 7)) (3.2.2)\n",
      "Requirement already satisfied: numpy>=1.18.5 in /usr/local/lib/python3.8/dist-packages (from -r requirements.txt (line 8)) (1.21.6)\n",
      "Requirement already satisfied: opencv-python>=4.1.1 in /usr/local/lib/python3.8/dist-packages (from -r requirements.txt (line 9)) (4.6.0.66)\n",
      "Requirement already satisfied: Pillow>=7.1.2 in /usr/local/lib/python3.8/dist-packages (from -r requirements.txt (line 10)) (7.1.2)\n",
      "Requirement already satisfied: psutil in /usr/local/lib/python3.8/dist-packages (from -r requirements.txt (line 11)) (5.4.8)\n",
      "Requirement already satisfied: PyYAML>=5.3.1 in /usr/local/lib/python3.8/dist-packages (from -r requirements.txt (line 12)) (6.0)\n",
      "Requirement already satisfied: requests>=2.23.0 in /usr/local/lib/python3.8/dist-packages (from -r requirements.txt (line 13)) (2.23.0)\n",
      "Requirement already satisfied: scipy>=1.4.1 in /usr/local/lib/python3.8/dist-packages (from -r requirements.txt (line 14)) (1.7.3)\n",
      "Collecting thop>=0.1.1\n",
      "  Downloading thop-0.1.1.post2209072238-py3-none-any.whl (15 kB)\n",
      "Requirement already satisfied: torch>=1.7.0 in /usr/local/lib/python3.8/dist-packages (from -r requirements.txt (line 16)) (1.13.0+cu116)\n",
      "Requirement already satisfied: torchvision>=0.8.1 in /usr/local/lib/python3.8/dist-packages (from -r requirements.txt (line 17)) (0.14.0+cu116)\n",
      "Requirement already satisfied: tqdm>=4.64.0 in /usr/local/lib/python3.8/dist-packages (from -r requirements.txt (line 18)) (4.64.1)\n",
      "Requirement already satisfied: tensorboard>=2.4.1 in /usr/local/lib/python3.8/dist-packages (from -r requirements.txt (line 22)) (2.9.1)\n",
      "Requirement already satisfied: pandas>=1.1.4 in /usr/local/lib/python3.8/dist-packages (from -r requirements.txt (line 27)) (1.3.5)\n",
      "Requirement already satisfied: seaborn>=0.11.0 in /usr/local/lib/python3.8/dist-packages (from -r requirements.txt (line 28)) (0.11.2)\n",
      "Requirement already satisfied: cycler>=0.10 in /usr/local/lib/python3.8/dist-packages (from matplotlib>=3.2.2->-r requirements.txt (line 7)) (0.11.0)\n",
      "Requirement already satisfied: kiwisolver>=1.0.1 in /usr/local/lib/python3.8/dist-packages (from matplotlib>=3.2.2->-r requirements.txt (line 7)) (1.4.4)\n",
      "Requirement already satisfied: pyparsing!=2.0.4,!=2.1.2,!=2.1.6,>=2.0.1 in /usr/local/lib/python3.8/dist-packages (from matplotlib>=3.2.2->-r requirements.txt (line 7)) (3.0.9)\n",
      "Requirement already satisfied: python-dateutil>=2.1 in /usr/local/lib/python3.8/dist-packages (from matplotlib>=3.2.2->-r requirements.txt (line 7)) (2.8.2)\n",
      "Requirement already satisfied: certifi>=2017.4.17 in /usr/local/lib/python3.8/dist-packages (from requests>=2.23.0->-r requirements.txt (line 13)) (2022.12.7)\n",
      "Requirement already satisfied: urllib3!=1.25.0,!=1.25.1,<1.26,>=1.21.1 in /usr/local/lib/python3.8/dist-packages (from requests>=2.23.0->-r requirements.txt (line 13)) (1.24.3)\n",
      "Requirement already satisfied: idna<3,>=2.5 in /usr/local/lib/python3.8/dist-packages (from requests>=2.23.0->-r requirements.txt (line 13)) (2.10)\n",
      "Requirement already satisfied: chardet<4,>=3.0.2 in /usr/local/lib/python3.8/dist-packages (from requests>=2.23.0->-r requirements.txt (line 13)) (3.0.4)\n",
      "Requirement already satisfied: typing-extensions in /usr/local/lib/python3.8/dist-packages (from torch>=1.7.0->-r requirements.txt (line 16)) (4.4.0)\n",
      "Requirement already satisfied: protobuf<3.20,>=3.9.2 in /usr/local/lib/python3.8/dist-packages (from tensorboard>=2.4.1->-r requirements.txt (line 22)) (3.19.6)\n",
      "Requirement already satisfied: absl-py>=0.4 in /usr/local/lib/python3.8/dist-packages (from tensorboard>=2.4.1->-r requirements.txt (line 22)) (1.3.0)\n",
      "Requirement already satisfied: markdown>=2.6.8 in /usr/local/lib/python3.8/dist-packages (from tensorboard>=2.4.1->-r requirements.txt (line 22)) (3.4.1)\n",
      "Requirement already satisfied: tensorboard-data-server<0.7.0,>=0.6.0 in /usr/local/lib/python3.8/dist-packages (from tensorboard>=2.4.1->-r requirements.txt (line 22)) (0.6.1)\n",
      "Requirement already satisfied: grpcio>=1.24.3 in /usr/local/lib/python3.8/dist-packages (from tensorboard>=2.4.1->-r requirements.txt (line 22)) (1.51.1)\n",
      "Requirement already satisfied: google-auth<3,>=1.6.3 in /usr/local/lib/python3.8/dist-packages (from tensorboard>=2.4.1->-r requirements.txt (line 22)) (2.15.0)\n",
      "Requirement already satisfied: werkzeug>=1.0.1 in /usr/local/lib/python3.8/dist-packages (from tensorboard>=2.4.1->-r requirements.txt (line 22)) (1.0.1)\n",
      "Requirement already satisfied: tensorboard-plugin-wit>=1.6.0 in /usr/local/lib/python3.8/dist-packages (from tensorboard>=2.4.1->-r requirements.txt (line 22)) (1.8.1)\n",
      "Requirement already satisfied: wheel>=0.26 in /usr/local/lib/python3.8/dist-packages (from tensorboard>=2.4.1->-r requirements.txt (line 22)) (0.38.4)\n",
      "Requirement already satisfied: google-auth-oauthlib<0.5,>=0.4.1 in /usr/local/lib/python3.8/dist-packages (from tensorboard>=2.4.1->-r requirements.txt (line 22)) (0.4.6)\n",
      "Requirement already satisfied: setuptools>=41.0.0 in /usr/local/lib/python3.8/dist-packages (from tensorboard>=2.4.1->-r requirements.txt (line 22)) (57.4.0)\n",
      "Requirement already satisfied: pytz>=2017.3 in /usr/local/lib/python3.8/dist-packages (from pandas>=1.1.4->-r requirements.txt (line 27)) (2022.6)\n",
      "Requirement already satisfied: rsa<5,>=3.1.4 in /usr/local/lib/python3.8/dist-packages (from google-auth<3,>=1.6.3->tensorboard>=2.4.1->-r requirements.txt (line 22)) (4.9)\n",
      "Requirement already satisfied: pyasn1-modules>=0.2.1 in /usr/local/lib/python3.8/dist-packages (from google-auth<3,>=1.6.3->tensorboard>=2.4.1->-r requirements.txt (line 22)) (0.2.8)\n",
      "Requirement already satisfied: six>=1.9.0 in /usr/local/lib/python3.8/dist-packages (from google-auth<3,>=1.6.3->tensorboard>=2.4.1->-r requirements.txt (line 22)) (1.15.0)\n",
      "Requirement already satisfied: cachetools<6.0,>=2.0.0 in /usr/local/lib/python3.8/dist-packages (from google-auth<3,>=1.6.3->tensorboard>=2.4.1->-r requirements.txt (line 22)) (5.2.0)\n",
      "Requirement already satisfied: requests-oauthlib>=0.7.0 in /usr/local/lib/python3.8/dist-packages (from google-auth-oauthlib<0.5,>=0.4.1->tensorboard>=2.4.1->-r requirements.txt (line 22)) (1.3.1)\n",
      "Requirement already satisfied: importlib-metadata>=4.4 in /usr/local/lib/python3.8/dist-packages (from markdown>=2.6.8->tensorboard>=2.4.1->-r requirements.txt (line 22)) (5.1.0)\n",
      "Requirement already satisfied: zipp>=0.5 in /usr/local/lib/python3.8/dist-packages (from importlib-metadata>=4.4->markdown>=2.6.8->tensorboard>=2.4.1->-r requirements.txt (line 22)) (3.11.0)\n",
      "Requirement already satisfied: pyasn1<0.5.0,>=0.4.6 in /usr/local/lib/python3.8/dist-packages (from pyasn1-modules>=0.2.1->google-auth<3,>=1.6.3->tensorboard>=2.4.1->-r requirements.txt (line 22)) (0.4.8)\n",
      "Requirement already satisfied: oauthlib>=3.0.0 in /usr/local/lib/python3.8/dist-packages (from requests-oauthlib>=0.7.0->google-auth-oauthlib<0.5,>=0.4.1->tensorboard>=2.4.1->-r requirements.txt (line 22)) (3.2.2)\n",
      "Collecting gitdb<5,>=4.0.1\n",
      "  Downloading gitdb-4.0.10-py3-none-any.whl (62 kB)\n",
      "\u001B[K     |████████████████████████████████| 62 kB 1.5 MB/s \n",
      "\u001B[?25hCollecting smmap<6,>=3.0.1\n",
      "  Downloading smmap-5.0.0-py3-none-any.whl (24 kB)\n",
      "Collecting jedi>=0.10\n",
      "  Downloading jedi-0.18.2-py2.py3-none-any.whl (1.6 MB)\n",
      "\u001B[K     |████████████████████████████████| 1.6 MB 64.7 MB/s \n",
      "\u001B[?25hRequirement already satisfied: pexpect in /usr/local/lib/python3.8/dist-packages (from ipython->-r requirements.txt (line 6)) (4.8.0)\n",
      "Requirement already satisfied: prompt-toolkit<2.1.0,>=2.0.0 in /usr/local/lib/python3.8/dist-packages (from ipython->-r requirements.txt (line 6)) (2.0.10)\n",
      "Requirement already satisfied: pygments in /usr/local/lib/python3.8/dist-packages (from ipython->-r requirements.txt (line 6)) (2.6.1)\n",
      "Requirement already satisfied: pickleshare in /usr/local/lib/python3.8/dist-packages (from ipython->-r requirements.txt (line 6)) (0.7.5)\n",
      "Requirement already satisfied: backcall in /usr/local/lib/python3.8/dist-packages (from ipython->-r requirements.txt (line 6)) (0.2.0)\n",
      "Requirement already satisfied: traitlets>=4.2 in /usr/local/lib/python3.8/dist-packages (from ipython->-r requirements.txt (line 6)) (5.7.1)\n",
      "Requirement already satisfied: decorator in /usr/local/lib/python3.8/dist-packages (from ipython->-r requirements.txt (line 6)) (4.4.2)\n",
      "Requirement already satisfied: parso<0.9.0,>=0.8.0 in /usr/local/lib/python3.8/dist-packages (from jedi>=0.10->ipython->-r requirements.txt (line 6)) (0.8.3)\n",
      "Requirement already satisfied: wcwidth in /usr/local/lib/python3.8/dist-packages (from prompt-toolkit<2.1.0,>=2.0.0->ipython->-r requirements.txt (line 6)) (0.2.5)\n",
      "Requirement already satisfied: ptyprocess>=0.5 in /usr/local/lib/python3.8/dist-packages (from pexpect->ipython->-r requirements.txt (line 6)) (0.7.0)\n",
      "Installing collected packages: smmap, jedi, gitdb, thop, gitpython\n",
      "Successfully installed gitdb-4.0.10 gitpython-3.1.29 jedi-0.18.2 smmap-5.0.0 thop-0.1.1.post2209072238\n"
     ]
    }
   ],
   "source": [
    "!pip install -r requirements.txt"
   ]
  },
  {
   "cell_type": "code",
   "source": [
    "!python train.py --img 1280 --batch 16 --epochs 30 --data ./../trafic_signs.yaml --weights yolov5s6.pt"
   ],
   "metadata": {
    "colab": {
     "base_uri": "https://localhost:8080/"
    },
    "id": "kPNh_InoQI5D",
    "outputId": "b3f749f7-4c20-4368-c671-785d66b40d0e",
    "pycharm": {
     "name": "#%%\n"
    }
   },
   "id": "kPNh_InoQI5D",
   "execution_count": null,
   "outputs": [
    {
     "output_type": "stream",
     "name": "stdout",
     "text": [
      "\u001B[34m\u001B[1mtrain: \u001B[0mweights=yolov5s6.pt, cfg=, data=./../trafic_signs.yaml, hyp=data/hyps/hyp.scratch-low.yaml, epochs=30, batch_size=16, imgsz=1280, rect=False, resume=False, nosave=False, noval=False, noautoanchor=False, noplots=False, evolve=None, bucket=, cache=None, image_weights=False, device=, multi_scale=False, single_cls=False, optimizer=SGD, sync_bn=False, workers=8, project=runs/train, name=exp, exist_ok=False, quad=False, cos_lr=False, label_smoothing=0.0, patience=100, freeze=[0], save_period=-1, seed=0, local_rank=-1, entity=None, upload_dataset=False, bbox_interval=-1, artifact_alias=latest\n",
      "\u001B[34m\u001B[1mgithub: \u001B[0mup to date with https://github.com/ultralytics/yolov5 ✅\n",
      "YOLOv5 🚀 v7.0-38-g4362372 Python-3.8.16 torch-1.13.0+cu116 CUDA:0 (Tesla T4, 15110MiB)\n",
      "\n",
      "\u001B[34m\u001B[1mhyperparameters: \u001B[0mlr0=0.01, lrf=0.01, momentum=0.937, weight_decay=0.0005, warmup_epochs=3.0, warmup_momentum=0.8, warmup_bias_lr=0.1, box=0.05, cls=0.5, cls_pw=1.0, obj=1.0, obj_pw=1.0, iou_t=0.2, anchor_t=4.0, fl_gamma=0.0, hsv_h=0.015, hsv_s=0.7, hsv_v=0.4, degrees=0.0, translate=0.1, scale=0.5, shear=0.0, perspective=0.0, flipud=0.0, fliplr=0.5, mosaic=1.0, mixup=0.0, copy_paste=0.0\n",
      "\u001B[34m\u001B[1mClearML: \u001B[0mrun 'pip install clearml' to automatically track, visualize and remotely train YOLOv5 🚀 in ClearML\n",
      "\u001B[34m\u001B[1mComet: \u001B[0mrun 'pip install comet_ml' to automatically track and visualize YOLOv5 🚀 runs in Comet\n",
      "\u001B[34m\u001B[1mTensorBoard: \u001B[0mStart with 'tensorboard --logdir runs/train', view at http://localhost:6006/\n",
      "Downloading https://github.com/ultralytics/yolov5/releases/download/v7.0/yolov5s6.pt to yolov5s6.pt...\n",
      "100% 24.8M/24.8M [00:04<00:00, 5.74MB/s]\n",
      "\n",
      "Overriding model.yaml nc=80 with nc=155\n",
      "\n",
      "                 from  n    params  module                                  arguments                     \n",
      "  0                -1  1      3520  models.common.Conv                      [3, 32, 6, 2, 2]              \n",
      "  1                -1  1     18560  models.common.Conv                      [32, 64, 3, 2]                \n",
      "  2                -1  1     18816  models.common.C3                        [64, 64, 1]                   \n",
      "  3                -1  1     73984  models.common.Conv                      [64, 128, 3, 2]               \n",
      "  4                -1  2    115712  models.common.C3                        [128, 128, 2]                 \n",
      "  5                -1  1    295424  models.common.Conv                      [128, 256, 3, 2]              \n",
      "  6                -1  3    625152  models.common.C3                        [256, 256, 3]                 \n",
      "  7                -1  1    885504  models.common.Conv                      [256, 384, 3, 2]              \n",
      "  8                -1  1    665856  models.common.C3                        [384, 384, 1]                 \n",
      "  9                -1  1   1770496  models.common.Conv                      [384, 512, 3, 2]              \n",
      " 10                -1  1   1182720  models.common.C3                        [512, 512, 1]                 \n",
      " 11                -1  1    656896  models.common.SPPF                      [512, 512, 5]                 \n",
      " 12                -1  1    197376  models.common.Conv                      [512, 384, 1, 1]              \n",
      " 13                -1  1         0  torch.nn.modules.upsampling.Upsample    [None, 2, 'nearest']          \n",
      " 14           [-1, 8]  1         0  models.common.Concat                    [1]                           \n",
      " 15                -1  1    813312  models.common.C3                        [768, 384, 1, False]          \n",
      " 16                -1  1     98816  models.common.Conv                      [384, 256, 1, 1]              \n",
      " 17                -1  1         0  torch.nn.modules.upsampling.Upsample    [None, 2, 'nearest']          \n",
      " 18           [-1, 6]  1         0  models.common.Concat                    [1]                           \n",
      " 19                -1  1    361984  models.common.C3                        [512, 256, 1, False]          \n",
      " 20                -1  1     33024  models.common.Conv                      [256, 128, 1, 1]              \n",
      " 21                -1  1         0  torch.nn.modules.upsampling.Upsample    [None, 2, 'nearest']          \n",
      " 22           [-1, 4]  1         0  models.common.Concat                    [1]                           \n",
      " 23                -1  1     90880  models.common.C3                        [256, 128, 1, False]          \n",
      " 24                -1  1    147712  models.common.Conv                      [128, 128, 3, 2]              \n",
      " 25          [-1, 20]  1         0  models.common.Concat                    [1]                           \n",
      " 26                -1  1    296448  models.common.C3                        [256, 256, 1, False]          \n",
      " 27                -1  1    590336  models.common.Conv                      [256, 256, 3, 2]              \n",
      " 28          [-1, 16]  1         0  models.common.Concat                    [1]                           \n",
      " 29                -1  1    715008  models.common.C3                        [512, 384, 1, False]          \n",
      " 30                -1  1   1327872  models.common.Conv                      [384, 384, 3, 2]              \n",
      " 31          [-1, 12]  1         0  models.common.Concat                    [1]                           \n",
      " 32                -1  1   1313792  models.common.C3                        [768, 512, 1, False]          \n",
      " 33  [23, 26, 29, 32]  1    616320  models.yolo.Detect                      [155, [[19, 27, 44, 40, 38, 94], [96, 68, 86, 152, 180, 137], [140, 301, 303, 264, 238, 542], [436, 615, 739, 380, 925, 792]], [128, 256, 384, 512]]\n",
      "Model summary: 281 layers, 12915520 parameters, 12915520 gradients, 17.6 GFLOPs\n",
      "\n",
      "Transferred 451/459 items from yolov5s6.pt\n",
      "\u001B[34m\u001B[1mAMP: \u001B[0mchecks passed ✅\n",
      "\u001B[34m\u001B[1moptimizer:\u001B[0m SGD(lr=0.01) with parameter groups 75 weight(decay=0.0), 79 weight(decay=0.0005), 79 bias\n",
      "\u001B[34m\u001B[1malbumentations: \u001B[0mBlur(p=0.01, blur_limit=(3, 7)), MedianBlur(p=0.01, blur_limit=(3, 7)), ToGray(p=0.01), CLAHE(p=0.01, clip_limit=(1, 4.0), tile_grid_size=(8, 8))\n",
      "\u001B[34m\u001B[1mtrain: \u001B[0mScanning /content/train_annotation/labels.cache... 14188 images, 0 backgrounds, 0 corrupt: 100% 14188/14188 [00:00<?, ?it/s]\n",
      "\u001B[34m\u001B[1mval: \u001B[0mScanning /content/test_annotation/labels.cache... 5000 images, 0 backgrounds, 0 corrupt: 100% 5000/5000 [00:00<?, ?it/s]\n",
      "\n",
      "\u001B[34m\u001B[1mAutoAnchor: \u001B[0m3.86 anchors/target, 1.000 Best Possible Recall (BPR). Current anchors are a good fit to dataset ✅\n",
      "Plotting labels to runs/train/exp2/labels.jpg... \n",
      "Image sizes 1280 train, 1280 val\n",
      "Using 2 dataloader workers\n",
      "Logging results to \u001B[1mruns/train/exp2\u001B[0m\n",
      "Starting training for 30 epochs...\n",
      "\n",
      "      Epoch    GPU_mem   box_loss   obj_loss   cls_loss  Instances       Size\n",
      "       0/29      13.4G    0.04238    0.01652    0.07069         29       1280: 100% 887/887 [18:29<00:00,  1.25s/it]\n",
      "                 Class     Images  Instances          P          R      mAP50   mAP50-95:  39% 62/157 [00:52<00:54,  1.74it/s]"
     ]
    }
   ]
  },
  {
   "cell_type": "code",
   "source": [
    "!zip -r /content/file.zip ./runs/train/exp\n",
    "from google.colab import files\n",
    "files.download(\"/content/file.zip\")"
   ],
   "metadata": {
    "colab": {
     "base_uri": "https://localhost:8080/",
     "height": 249
    },
    "id": "iw-ZEd2gXwAs",
    "outputId": "c4378cb0-5db8-4b67-9f70-22577aec39b0",
    "pycharm": {
     "name": "#%%\n"
    }
   },
   "id": "iw-ZEd2gXwAs",
   "execution_count": null,
   "outputs": [
    {
     "output_type": "stream",
     "name": "stdout",
     "text": [
      "updating: runs/train/exp/ (stored 0%)\n",
      "updating: runs/train/exp/labels.jpg (deflated 23%)\n",
      "updating: runs/train/exp/labels_correlogram.jpg (deflated 17%)\n",
      "updating: runs/train/exp/events.out.tfevents.1671284348.462f0584cd7e.514.0 (deflated 92%)\n",
      "updating: runs/train/exp/results.csv (deflated 82%)\n",
      "updating: runs/train/exp/train_batch0.jpg (deflated 9%)\n",
      "updating: runs/train/exp/hyp.yaml (deflated 45%)\n",
      "updating: runs/train/exp/opt.yaml (deflated 49%)\n",
      "updating: runs/train/exp/train_batch2.jpg (deflated 11%)\n",
      "updating: runs/train/exp/weights/ (stored 0%)\n",
      "updating: runs/train/exp/weights/last.pt (deflated 8%)\n",
      "updating: runs/train/exp/weights/best.pt (deflated 8%)\n",
      "updating: runs/train/exp/train_batch1.jpg (deflated 9%)\n"
     ]
    },
    {
     "output_type": "display_data",
     "data": {
      "text/plain": [
       "<IPython.core.display.Javascript object>"
      ],
      "application/javascript": [
       "\n",
       "    async function download(id, filename, size) {\n",
       "      if (!google.colab.kernel.accessAllowed) {\n",
       "        return;\n",
       "      }\n",
       "      const div = document.createElement('div');\n",
       "      const label = document.createElement('label');\n",
       "      label.textContent = `Downloading \"${filename}\": `;\n",
       "      div.appendChild(label);\n",
       "      const progress = document.createElement('progress');\n",
       "      progress.max = size;\n",
       "      div.appendChild(progress);\n",
       "      document.body.appendChild(div);\n",
       "\n",
       "      const buffers = [];\n",
       "      let downloaded = 0;\n",
       "\n",
       "      const channel = await google.colab.kernel.comms.open(id);\n",
       "      // Send a message to notify the kernel that we're ready.\n",
       "      channel.send({})\n",
       "\n",
       "      for await (const message of channel.messages) {\n",
       "        // Send a message to notify the kernel that we're ready.\n",
       "        channel.send({})\n",
       "        if (message.buffers) {\n",
       "          for (const buffer of message.buffers) {\n",
       "            buffers.push(buffer);\n",
       "            downloaded += buffer.byteLength;\n",
       "            progress.value = downloaded;\n",
       "          }\n",
       "        }\n",
       "      }\n",
       "      const blob = new Blob(buffers, {type: 'application/binary'});\n",
       "      const a = document.createElement('a');\n",
       "      a.href = window.URL.createObjectURL(blob);\n",
       "      a.download = filename;\n",
       "      div.appendChild(a);\n",
       "      a.click();\n",
       "      div.remove();\n",
       "    }\n",
       "  "
      ]
     },
     "metadata": {}
    },
    {
     "output_type": "display_data",
     "data": {
      "text/plain": [
       "<IPython.core.display.Javascript object>"
      ],
      "application/javascript": [
       "download(\"download_f723f474-2af5-442f-b332-9662a61dae2f\", \"file.zip\", 112550217)"
      ]
     },
     "metadata": {}
    }
   ]
  },
  {
   "cell_type": "code",
   "execution_count": null,
   "outputs": [
    {
     "output_type": "stream",
     "name": "stdout",
     "text": [
      "Traceback (most recent call last):\n",
      "  File \"train.py\", line 66, in <module>\n",
      "    GIT_INFO = check_git_info()\n",
      "  File \"/usr/lib/python3.8/contextlib.py\", line 75, in inner\n",
      "    return func(*args, **kwds)\n",
      "  File \"/content/yolov5/utils/general.py\", line 350, in check_git_info\n",
      "    import git\n",
      "  File \"/usr/local/lib/python3.8/dist-packages/git/__init__.py\", line 44, in <module>\n",
      "    from git.objects import *  # @NoMove @IgnorePep8\n",
      "  File \"/usr/local/lib/python3.8/dist-packages/git/objects/__init__.py\", line 9, in <module>\n",
      "    from .commit import *\n",
      "  File \"/usr/local/lib/python3.8/dist-packages/git/objects/commit.py\", line 11, in <module>\n",
      "    from git.diff import Diffable\n",
      "  File \"/usr/local/lib/python3.8/dist-packages/git/diff.py\", line 245, in <module>\n",
      "    class Diff(object):\n",
      "  File \"/usr/local/lib/python3.8/dist-packages/git/diff.py\", line 278, in Diff\n",
      "    re_header = re.compile(\n",
      "  File \"/usr/lib/python3.8/re.py\", line 252, in compile\n",
      "    return _compile(pattern, flags)\n",
      "  File \"/usr/lib/python3.8/re.py\", line 304, in _compile\n",
      "    p = sre_compile.compile(pattern, flags)\n",
      "  File \"/usr/lib/python3.8/sre_compile.py\", line 764, in compile\n",
      "    p = sre_parse.parse(p, flags)\n",
      "  File \"/usr/lib/python3.8/sre_parse.py\", line 948, in parse\n",
      "    p = _parse_sub(source, state, flags & SRE_FLAG_VERBOSE, 0)\n",
      "  File \"/usr/lib/python3.8/sre_parse.py\", line 443, in _parse_sub\n",
      "    itemsappend(_parse(source, state, verbose, nested + 1,\n",
      "  File \"/usr/lib/python3.8/sre_parse.py\", line 834, in _parse\n",
      "    p = _parse_sub(source, state, sub_verbose, nested + 1)\n",
      "  File \"/usr/lib/python3.8/sre_parse.py\", line 443, in _parse_sub\n",
      "    itemsappend(_parse(source, state, verbose, nested + 1,\n",
      "  File \"/usr/lib/python3.8/sre_parse.py\", line 834, in _parse\n",
      "    p = _parse_sub(source, state, sub_verbose, nested + 1)\n",
      "  File \"/usr/lib/python3.8/sre_parse.py\", line 443, in _parse_sub\n",
      "    itemsappend(_parse(source, state, verbose, nested + 1,\n",
      "  File \"/usr/lib/python3.8/sre_parse.py\", line 664, in _parse\n",
      "    item = subpattern[-1:]\n",
      "  File \"/usr/lib/python3.8/sre_parse.py\", line 166, in __getitem__\n",
      "    return SubPattern(self.state, self.data[index])\n",
      "  File \"/usr/lib/python3.8/sre_parse.py\", line 111, in __init__\n",
      "    def __init__(self, state, data=None):\n",
      "KeyboardInterrupt\n",
      "^C\n"
     ]
    }
   ],
   "source": [
    "!python train.py --img 640 --batch 16 --epochs 30 --data ./../trafic_signs.yaml --weights yolov5s.pt"
   ],
   "metadata": {
    "pycharm": {
     "name": "#%%\n",
     "is_executing": true
    },
    "colab": {
     "base_uri": "https://localhost:8080/"
    },
    "id": "fsJCIud9_c3O",
    "outputId": "a6538a7c-4ba3-4aef-830d-0f0743c8ea96"
   },
   "id": "fsJCIud9_c3O"
  },
  {
   "cell_type": "code",
   "execution_count": null,
   "outputs": [],
   "source": [],
   "metadata": {
    "pycharm": {
     "name": "#%%\n"
    },
    "id": "kJ0S_vcO_c3O"
   },
   "id": "kJ0S_vcO_c3O"
  }
 ],
 "metadata": {
  "kernelspec": {
   "display_name": "Python 3 (ipykernel)",
   "language": "python",
   "name": "python3"
  },
  "language_info": {
   "codemirror_mode": {
    "name": "ipython",
    "version": 3
   },
   "file_extension": ".py",
   "mimetype": "text/x-python",
   "name": "python",
   "nbconvert_exporter": "python",
   "pygments_lexer": "ipython3",
   "version": "3.9.7"
  },
  "colab": {
   "provenance": []
  },
  "accelerator": "GPU",
  "gpuClass": "standard"
 },
 "nbformat": 4,
 "nbformat_minor": 5
}